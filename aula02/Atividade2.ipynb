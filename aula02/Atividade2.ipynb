{
 "cells": [
  {
   "cell_type": "markdown",
   "metadata": {},
   "source": [
    "# Atividade 2 - Visão Computacional"
   ]
  },
  {
   "cell_type": "markdown",
   "metadata": {},
   "source": [
    "O entregável de toda esta atividade vai ser um código-fonte em *Python*. \n",
    "\n",
    "Encorajamos vocês a fazerem vídeos demonstrando o resultado e a postar (pode ser privadamente) no YouTube\n",
    "\n",
    "Você pode entregar enviando o código para o Github e postando o vídeo *ou* mostrando ao vivo aos professores\n",
    "\n",
    "**Não programe no Jupyter** - use um programa Python\n",
    "\n"
   ]
  },
  {
   "cell_type": "markdown",
   "metadata": {},
   "source": [
    "Obs.: [Instale o GIT-FLS](../guides/git_lfs.md) para poder baixar este repositório.\n",
    "\n"
   ]
  },
  {
   "cell_type": "markdown",
   "metadata": {},
   "source": [
    "Você deve ter uma folha com o padrão anexo. \n",
    "*Dica:* Se não tiver, é possível fazer também com um tablet ou *smartphone*\n",
    " \n",
    "<img src=\"folha_atividade.png\" width=300>"
   ]
  },
  {
   "cell_type": "markdown",
   "metadata": {},
   "source": [
    "## Parte 1 - calibração\n",
    "\n",
    "Ouça a explicação do professor sobre o modelo de câmera *pinhole*  e desenhe a medida $f$ que separa o plano focal da pupila da câmera"
   ]
  },
  {
   "cell_type": "markdown",
   "metadata": {},
   "source": [
    "Detalhe como calculou $f$"
   ]
  },
  {
   "cell_type": "code",
   "execution_count": 2,
   "metadata": {},
   "outputs": [
    {
     "data": {
      "text/plain": [
       "729.8182923128571"
      ]
     },
     "execution_count": 2,
     "metadata": {},
     "output_type": "execute_result"
    }
   ],
   "source": [
    "h = 340.581869746\n",
    "\n",
    "f = 30*h / 14\n",
    "f "
   ]
  },
  {
   "cell_type": "markdown",
   "metadata": {},
   "source": [
    "## Parte 2\n",
    "\n",
    "Modifique um dos exemplos `draw_circles_video.py` ou `videoplay.py` para passar a ler dados da webcam e identificar o círculo magenta e o círculo ciano, usando o `inRange`"
   ]
  },
  {
   "cell_type": "code",
   "execution_count": 4,
   "metadata": {},
   "outputs": [
    {
     "name": "stdout",
     "output_type": "stream",
     "text": [
      "Codigo de retorno FALSO - problema para capturar o frame\n"
     ]
    },
    {
     "ename": "error",
     "evalue": "OpenCV(4.1.1) /home/leviosa/404/scripts_robotica/OpenCV/modules/imgproc/src/color.cpp:182: error: (-215:Assertion failed) !_src.empty() in function 'cvtColor'\n",
     "output_type": "error",
     "traceback": [
      "\u001b[0;31m---------------------------------------------------------------------------\u001b[0m",
      "\u001b[0;31merror\u001b[0m                                     Traceback (most recent call last)",
      "\u001b[0;32m<ipython-input-4-c7959503f4a1>\u001b[0m in \u001b[0;36m<module>\u001b[0;34m\u001b[0m\n\u001b[1;32m     15\u001b[0m         \u001b[0mprint\u001b[0m\u001b[0;34m(\u001b[0m\u001b[0;34m\"Codigo de retorno FALSO - problema para capturar o frame\"\u001b[0m\u001b[0;34m)\u001b[0m\u001b[0;34m\u001b[0m\u001b[0;34m\u001b[0m\u001b[0m\n\u001b[1;32m     16\u001b[0m \u001b[0;34m\u001b[0m\u001b[0m\n\u001b[0;32m---> 17\u001b[0;31m     \u001b[0mrgb\u001b[0m \u001b[0;34m=\u001b[0m \u001b[0mcv2\u001b[0m\u001b[0;34m.\u001b[0m\u001b[0mcvtColor\u001b[0m\u001b[0;34m(\u001b[0m\u001b[0mframe\u001b[0m\u001b[0;34m,\u001b[0m \u001b[0mcv2\u001b[0m\u001b[0;34m.\u001b[0m\u001b[0mCOLOR_BGR2RGB\u001b[0m\u001b[0;34m)\u001b[0m\u001b[0;34m\u001b[0m\u001b[0;34m\u001b[0m\u001b[0m\n\u001b[0m\u001b[1;32m     18\u001b[0m     \u001b[0mgray\u001b[0m \u001b[0;34m=\u001b[0m \u001b[0mcv2\u001b[0m\u001b[0;34m.\u001b[0m\u001b[0mcvtColor\u001b[0m\u001b[0;34m(\u001b[0m\u001b[0mframe\u001b[0m\u001b[0;34m,\u001b[0m \u001b[0mcv2\u001b[0m\u001b[0;34m.\u001b[0m\u001b[0mCOLOR_BGR2GRAY\u001b[0m\u001b[0;34m)\u001b[0m\u001b[0;34m\u001b[0m\u001b[0;34m\u001b[0m\u001b[0m\n\u001b[1;32m     19\u001b[0m     \u001b[0mframe_hsv\u001b[0m \u001b[0;34m=\u001b[0m \u001b[0mcv2\u001b[0m\u001b[0;34m.\u001b[0m\u001b[0mcvtColor\u001b[0m\u001b[0;34m(\u001b[0m\u001b[0mframe\u001b[0m\u001b[0;34m,\u001b[0m \u001b[0mcv2\u001b[0m\u001b[0;34m.\u001b[0m\u001b[0mCOLOR_BGR2HSV\u001b[0m\u001b[0;34m)\u001b[0m\u001b[0;34m\u001b[0m\u001b[0;34m\u001b[0m\u001b[0m\n",
      "\u001b[0;31merror\u001b[0m: OpenCV(4.1.1) /home/leviosa/404/scripts_robotica/OpenCV/modules/imgproc/src/color.cpp:182: error: (-215:Assertion failed) !_src.empty() in function 'cvtColor'\n"
     ]
    }
   ],
   "source": [
    "#!/usr/bin/python\n",
    "# -*- coding: utf-8 -*-\n",
    "\n",
    "import cv2\n",
    "import numpy as np\n",
    "import time\n",
    "import auxiliar as aux\n",
    "\n",
    "cap = cv2.VideoCapture(\"masks.webm\")\n",
    "\n",
    "while(True):\n",
    "    ret, frame = cap.read()\n",
    "    \n",
    "    if ret == False:\n",
    "        print(\"Codigo de retorno FALSO - problema para capturar o frame\")\n",
    "\n",
    "    rgb = cv2.cvtColor(frame, cv2.COLOR_BGR2RGB) \n",
    "    gray = cv2.cvtColor(frame, cv2.COLOR_BGR2GRAY)\n",
    "    frame_hsv = cv2.cvtColor(frame, cv2.COLOR_BGR2HSV)\n",
    "\n",
    "    #hsv1, hsv2 = aux.ranges(\"#516679\")\n",
    "    #hsv3 , hsv4 = aux.ranges(\"#95434f\")\n",
    "    hsv1 = np.array([150,  40,  50])\n",
    "    hsv2 = np.array([180, 255, 255])\n",
    "    \n",
    "    hsv3 = np.array([85, 45, 45])\n",
    "    hsv4 = np.array([110, 255, 255])\n",
    "    \n",
    "    mask0 = cv2.inRange(frame_hsv, hsv1, hsv2)   \n",
    "    mask1 = cv2.inRange(frame_hsv, hsv3, hsv4)\n",
    "\n",
    "    mask2 = mask0 + mask1\n",
    "\n",
    "    cv2.imshow('img', mask2)\n",
    "\n",
    "    if cv2.waitKey(9) & 0xFF == ord('q'):\n",
    "        break\n",
    "\n",
    "cap.release()\n",
    "cv2.destroyAllWindows()\n"
   ]
  },
  {
   "cell_type": "markdown",
   "metadata": {},
   "source": [
    "## Parte 3"
   ]
  },
  {
   "cell_type": "markdown",
   "metadata": {},
   "source": [
    "Assumindo que a folha se mantém sempre paralela ao plano de imagem da câmera, imprima a distância entre a folha e sua câmera"
   ]
  },
  {
   "cell_type": "code",
   "execution_count": 2,
   "metadata": {},
   "outputs": [
    {
     "name": "stdout",
     "output_type": "stream",
     "text": [
      "Press q to QUIT\n"
     ]
    }
   ],
   "source": [
    "#!/usr/bin/python\n",
    "# -*- coding: utf-8 -*-\n",
    "\n",
    "__author__      = \"Matheus Dib, Fabio de Miranda\"\n",
    "\n",
    "\n",
    "import cv2\n",
    "import numpy as np\n",
    "from matplotlib import pyplot as plt\n",
    "import time\n",
    "import auxiliar as aux\n",
    "import math\n",
    "\n",
    "# Parameters to use when opening the webcam.\n",
    "cap = cv2.VideoCapture(\"dist.webm\")\n",
    "cap.set(cv2.CAP_PROP_FRAME_WIDTH, 640)\n",
    "cap.set(cv2.CAP_PROP_FRAME_HEIGHT, 480)\n",
    "\n",
    "lower = 0\n",
    "upper = 1\n",
    "\n",
    "font = cv2.FONT_HERSHEY_SIMPLEX\n",
    "\n",
    "print(\"Press q to QUIT\")\n",
    "\n",
    "# Returns an image containing the borders of the image\n",
    "# sigma is how far from the median we are setting the thresholds\n",
    "def auto_canny(image, sigma=0.33):\n",
    "    # compute the median of the single channel pixel intensities\n",
    "    v = np.median(image)\n",
    "\n",
    "    # apply automatic Canny edge detection using the computed median\n",
    "    lower = int(max(0, (1.0 - sigma) * v))\n",
    "    upper = int(min(255, (1.0 + sigma) * v))\n",
    "    edged = cv2.Canny(image, lower, upper)\n",
    "\n",
    "    # return the edged image\n",
    "    return edged\n",
    "H = 14\n",
    "h = 243.2\n",
    "D = 30\n",
    "\n",
    "f = D*h / H\n",
    "\n",
    "\n",
    "while(True):\n",
    "    # Capture frame-by-frame\n",
    "    ret, frame = cap.read()\n",
    "\n",
    "    frame_bgr = cv2.cvtColor(frame, cv2.COLOR_RGB2BGR)\n",
    "\n",
    "    # Convert the frame to grayscale\n",
    "    gray = cv2.cvtColor(frame, cv2.COLOR_RGB2GRAY)\n",
    "    # A gaussian blur to get rid of the noise in the image\n",
    "    blur = cv2.GaussianBlur(gray,(5,5),0)\n",
    "    #blur = gray\n",
    "    # Detect the edges present in the image\n",
    "    bordas = auto_canny(blur)\n",
    "\n",
    "    circles = []\n",
    "\n",
    "\n",
    "    # Obtains a version of the edges image where we can draw in color\n",
    "    bordas_color = cv2.cvtColor(bordas, cv2.COLOR_GRAY2BGR)\n",
    "\n",
    "    # HoughCircles - detects circles using the Hough Method. For an explanation of\n",
    "    # param1 and param2 please see an explanation here http://www.pyimagesearch.com/2014/07/21/detecting-circles-images-using-opencv-hough-circles/\n",
    "    circles = None\n",
    "    circles=cv2.HoughCircles(bordas,cv2.HOUGH_GRADIENT,2,40,param1=50,param2=100,minRadius=5,maxRadius=60)\n",
    "\n",
    "    if circles is not None:        \n",
    "        circles = np.uint16(np.around(circles))\n",
    "        lista_c = []\n",
    "\n",
    "        for i in circles[0,:]:\n",
    "            lista_c.append(i)\n",
    "            if len(lista_c) == 2:\n",
    "                x0 = int(lista_c[0][0])\n",
    "                x1 = int(lista_c[1][0])\n",
    "                y0 = int(lista_c[0][1])\n",
    "                y1 = int(lista_c[1][1])\n",
    "                \n",
    "                xf = abs(x0 - x1)\n",
    "\n",
    "                yf = abs(y0 - y1)\n",
    "            \n",
    "\n",
    "                if xf > 1000 or yf > 1000:\n",
    "                    pass\n",
    "                else:\n",
    "                    pit = math.sqrt(xf**2 + yf**2)\n",
    "                    dist = f*H/pit\n",
    "\n",
    "                    if xf == 0:\n",
    "                        cv2.putText(bordas_color,str(90)+'°',(100,100), font, 1,(255,255,255),2,cv2.LINE_AA)\n",
    "                    else:\n",
    "                        tang = float(yf)/float(xf)\n",
    "                        seng = yf/dist\n",
    "                        aang_rad = math.atan(tang)\n",
    "                        aang_deg = math.degrees(aang_rad)\n",
    "                        #print(tang,aang_deg,aang_rad,xf,yf)\n",
    "                        #cv2.putText(bordas_color,str(aang_deg)+'°',(100,100), font, 1,(255,255,255),2,cv2.LINE_AA)\n",
    "    \n",
    "                cv2.putText(bordas_color,str(dist)+'cm',(0,50), font, 1,(255,255,255),2,cv2.LINE_AA)\n",
    "                \n",
    "\n",
    "                cv2.line(bordas_color,(x0,y0),(x1,y1),(255,0,0),5)\n",
    "\n",
    "            # draw the outer circle\n",
    "\n",
    "            # cv2.circle(img, center, radius, color[, thickness[, lineType[, shift]]])\n",
    "            cv2.circle(bordas_color,(i[0],i[1]),i[2],(255,255,0),2)\n",
    "            # draw the center of the circle\n",
    "            cv2.circle(bordas_color,(i[0],i[1]),2,(0,255,0),3)\n",
    "\n",
    "            \n",
    "    # Display the resulting frame\n",
    "    cv2.imshow('Detector de circulos',bordas_color)\n",
    "    if cv2.waitKey(10) & 0xFF == ord('q'):\n",
    "        break\n",
    "\n",
    "#  When everything done, release the capture\n",
    "cap.release()\n",
    "cv2.destroyAllWindows()\n"
   ]
  },
  {
   "cell_type": "markdown",
   "metadata": {},
   "source": [
    "## Parte 4\n",
    "\n",
    "Trace uma linha entre os centros do círculo magenta e do círculo ciano.\n",
    "\n",
    "Imprima na tela o ângulo entre esta linha e a horizontal"
   ]
  },
  {
   "cell_type": "code",
   "execution_count": 4,
   "metadata": {},
   "outputs": [
    {
     "name": "stdout",
     "output_type": "stream",
     "text": [
      "Press q to QUIT\n"
     ]
    }
   ],
   "source": [
    "#!/usr/bin/python\n",
    "# -*- coding: utf-8 -*-\n",
    "\n",
    "__author__      = \"Matheus Dib, Fabio de Miranda\"\n",
    "\n",
    "\n",
    "import cv2\n",
    "import numpy as np\n",
    "from matplotlib import pyplot as plt\n",
    "import time\n",
    "import auxiliar as aux\n",
    "import math\n",
    "\n",
    "# Parameters to use when opening the webcam.\n",
    "cap = cv2.VideoCapture(\"angulo.webm\")\n",
    "cap.set(cv2.CAP_PROP_FRAME_WIDTH, 640)\n",
    "cap.set(cv2.CAP_PROP_FRAME_HEIGHT, 480)\n",
    "\n",
    "lower = 0\n",
    "upper = 1\n",
    "\n",
    "font = cv2.FONT_HERSHEY_SIMPLEX\n",
    "\n",
    "print(\"Press q to QUIT\")\n",
    "\n",
    "# Returns an image containing the borders of the image\n",
    "# sigma is how far from the median we are setting the thresholds\n",
    "def auto_canny(image, sigma=0.33):\n",
    "    # compute the median of the single channel pixel intensities\n",
    "    v = np.median(image)\n",
    "\n",
    "    # apply automatic Canny edge detection using the computed median\n",
    "    lower = int(max(0, (1.0 - sigma) * v))\n",
    "    upper = int(min(255, (1.0 + sigma) * v))\n",
    "    edged = cv2.Canny(image, lower, upper)\n",
    "\n",
    "    # return the edged image\n",
    "    return edged\n",
    "H = 14\n",
    "h = 243.2\n",
    "D = 30\n",
    "\n",
    "f = D*h / H\n",
    "\n",
    "\n",
    "while(True):\n",
    "    # Capture frame-by-frame\n",
    "    ret, frame = cap.read()\n",
    "\n",
    "    frame_bgr = cv2.cvtColor(frame, cv2.COLOR_RGB2BGR)\n",
    "\n",
    "    # Convert the frame to grayscale\n",
    "    gray = cv2.cvtColor(frame, cv2.COLOR_RGB2GRAY)\n",
    "    # A gaussian blur to get rid of the noise in the image\n",
    "    blur = cv2.GaussianBlur(gray,(5,5),0)\n",
    "    #blur = gray\n",
    "    # Detect the edges present in the image\n",
    "    bordas = auto_canny(blur)\n",
    "\n",
    "    circles = []\n",
    "\n",
    "\n",
    "    # Obtains a version of the edges image where we can draw in color\n",
    "    bordas_color = cv2.cvtColor(bordas, cv2.COLOR_GRAY2BGR)\n",
    "\n",
    "    # HoughCircles - detects circles using the Hough Method. For an explanation of\n",
    "    # param1 and param2 please see an explanation here http://www.pyimagesearch.com/2014/07/21/detecting-circles-images-using-opencv-hough-circles/\n",
    "    circles = None\n",
    "    circles=cv2.HoughCircles(bordas,cv2.HOUGH_GRADIENT,2,40,param1=50,param2=100,minRadius=5,maxRadius=60)\n",
    "\n",
    "    if circles is not None:        \n",
    "        circles = np.uint16(np.around(circles))\n",
    "        lista_c = []\n",
    "\n",
    "        for i in circles[0,:]:\n",
    "            lista_c.append(i)\n",
    "            if len(lista_c) == 2:\n",
    "                x0 = int(lista_c[0][0])\n",
    "                x1 = int(lista_c[1][0])\n",
    "                y0 = int(lista_c[0][1])\n",
    "                y1 = int(lista_c[1][1])\n",
    "                \n",
    "                xf = abs(x0 - x1)\n",
    "\n",
    "                yf = abs(y0 - y1)\n",
    "            \n",
    "\n",
    "                if xf > 1000 or yf > 1000:\n",
    "                    pass\n",
    "                else:\n",
    "                    pit = math.sqrt(xf**2 + yf**2)\n",
    "                    dist = f*H/pit\n",
    "\n",
    "                    if xf == 0:\n",
    "                        cv2.putText(bordas_color,str(90)+'°',(100,100), font, 1,(255,255,255),2,cv2.LINE_AA)\n",
    "                    else:\n",
    "                        tang = float(yf)/float(xf)\n",
    "                        seng = yf/dist\n",
    "                        aang_rad = math.atan(tang)\n",
    "                        aang_deg = math.degrees(aang_rad)\n",
    "                        #print(tang,aang_deg,aang_rad,xf,yf)\n",
    "                        cv2.putText(bordas_color,str(aang_deg)+'°',(0,50), font, 1,(255,255,255),2,cv2.LINE_AA)\n",
    "    \n",
    "               # cv2.putText(bordas_color,str(dist)+'cm',(0,50), font, 1,(255,255,255),2,cv2.LINE_AA)\n",
    "                \n",
    "\n",
    "                cv2.line(bordas_color,(x0,y0),(x1,y1),(255,0,0),5)\n",
    "\n",
    "            # draw the outer circle\n",
    "\n",
    "            # cv2.circle(img, center, radius, color[, thickness[, lineType[, shift]]])\n",
    "            cv2.circle(bordas_color,(i[0],i[1]),i[2],(255,255,0),2)\n",
    "            # draw the center of the circle\n",
    "            cv2.circle(bordas_color,(i[0],i[1]),2,(0,255,0),3)\n",
    "\n",
    "            \n",
    "\n",
    "    # Draw a diagonal blue line with thickness of 5 px\n",
    "    # cv2.line(img, pt1, pt2, color[, thickness[, lineType[, shift]]])\n",
    "    cv2.line(bordas_color,(0,0),(511,511),(255,0,0),5)\n",
    "\n",
    "    # cv2.rectangle(img, pt1, pt2, color[, thickness[, lineType[, shift]]])\n",
    "    cv2.rectangle(bordas_color,(384,0),(510,128),(0,255,0),3)\n",
    "\n",
    "    # cv2.putText(img, text, org, fontFace, fontScale, color[, thickness[, lineType[, bottomLeftOrigin]]])\n",
    "    # font = cv2.FONT_HERSHEY_SIMPLEX\n",
    "    # cv2.putText(bordas_color,'Press q to quit',(0,50), font, 1,(255,255,255),2,cv2.LINE_AA)\n",
    "\n",
    "    #More drawing functions @ http://docs.opencv.org/2.4/modules/core/doc/drawing_functions.html\n",
    "\n",
    "    # Display the resulting frame\n",
    "    cv2.imshow('Detector de circulos',bordas_color)\n",
    "    if cv2.waitKey(10) & 0xFF == ord('q'):\n",
    "        break\n",
    "\n",
    "#  When everything done, release the capture\n",
    "cap.release()\n",
    "cv2.destroyAllWindows()\n"
   ]
  },
  {
   "cell_type": "markdown",
   "metadata": {},
   "source": [
    "## Parte 5\n",
    "\n",
    "Baseado nos círculos encontrados pela transformada de Hough, desenhe um círculo sobre o círculo ciano e outro sobre o círculo magenta.\n",
    "\n",
    "Dica: Use a função `cv2.circle` e veja o exemplo [draw_circles_video.py](draw_circles_video.py).\n",
    "\n",
    "**Desafio bônus**: ser capaz de eliminar circulos espúrios (aqueles que não são os da folha)"
   ]
  },
  {
   "cell_type": "code",
   "execution_count": null,
   "metadata": {},
   "outputs": [],
   "source": []
  },
  {
   "cell_type": "markdown",
   "metadata": {},
   "source": [
    "## Parte 6\n",
    "\n",
    "Usando um detector de features `BRISK`, identifique o escrito *Insper* na folha. Veja os exemplos [no notebook](BRISK%20Features.ipynb) e em [em código](features.py) ."
   ]
  },
  {
   "cell_type": "code",
   "execution_count": null,
   "metadata": {},
   "outputs": [],
   "source": []
  },
  {
   "cell_type": "code",
   "execution_count": 1,
   "metadata": {},
   "outputs": [],
   "source": [
    "# Essa função vai ser usada abaixo. Ela encontra a matriz (homografia) \n",
    "# que quando multiplicada pela imagem de entrada gera a imagem de \n",
    "\n",
    "\n",
    "def find_homography_draw_box(kp1, kp2, img_cena):\n",
    "    \n",
    "    out = img_cena.copy()\n",
    "    \n",
    "    src_pts = np.float32([ kp1[m.queryIdx].pt for m in good ]).reshape(-1,1,2)\n",
    "    dst_pts = np.float32([ kp2[m.trainIdx].pt for m in good ]).reshape(-1,1,2)\n",
    "\n",
    "\n",
    "    # Tenta achar uma trasformacao composta de rotacao, translacao e escala que situe uma imagem na outra\n",
    "    # Esta transformação é chamada de homografia \n",
    "    # Para saber mais veja \n",
    "    # https://docs.opencv.org/3.4/d9/dab/tutorial_homography.html\n",
    "    M, mask = cv2.findHomography(src_pts, dst_pts, cv2.RANSAC,5.0)\n",
    "    matchesMask = mask.ravel().tolist()\n",
    "\n",
    "\n",
    "    \n",
    "    h,w = img_original.shape\n",
    "    # Um retângulo com as dimensões da imagem original\n",
    "    pts = np.float32([ [0,0],[0,h-1],[w-1,h-1],[w-1,0] ]).reshape(-1,1,2)\n",
    "\n",
    "    # Transforma os pontos do retângulo para onde estao na imagem destino usando a homografia encontrada\n",
    "    dst = cv2.perspectiveTransform(pts,M)\n",
    "\n",
    "\n",
    "    # Desenha um contorno em vermelho ao redor de onde o objeto foi encontrado\n",
    "    img2b = cv2.polylines(out,[np.int32(dst)],True,(255,255,0),5, cv2.LINE_AA)\n",
    "    \n",
    "    return img2b\n",
    "    "
   ]
  },
  {
   "cell_type": "code",
   "execution_count": null,
   "metadata": {},
   "outputs": [],
   "source": []
  }
 ],
 "metadata": {
  "kernelspec": {
   "display_name": "Python 3",
   "language": "python",
   "name": "python3"
  },
  "language_info": {
   "codemirror_mode": {
    "name": "ipython",
    "version": 3
   },
   "file_extension": ".py",
   "mimetype": "text/x-python",
   "name": "python",
   "nbconvert_exporter": "python",
   "pygments_lexer": "ipython3",
   "version": "3.6.9"
  }
 },
 "nbformat": 4,
 "nbformat_minor": 4
}
